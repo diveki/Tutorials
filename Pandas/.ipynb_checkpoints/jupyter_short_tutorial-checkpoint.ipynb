{
 "cells": [
  {
   "cell_type": "markdown",
   "metadata": {},
   "source": [
    "# Jupyter notebook"
   ]
  },
  {
   "cell_type": "markdown",
   "metadata": {},
   "source": [
    "## Jupyter\n",
    "\n",
    "To run a Jupyter notebook open up an Anaconda terminal, choose the folder where you would like to work and type in:\n",
    "\n",
    "*jupyter notebook*  .\n",
    "\n",
    "This command will open a new tab in your default web browser. By clicking on **New** and selecting **Python 3** from the dropdown list a Python kernel is started and you are ready to code. "
   ]
  },
  {
   "cell_type": "markdown",
   "metadata": {},
   "source": [
    "## Basic usage of Jupyter notebook\n",
    "\n",
    "For a quick tutorial visit: [Dataquest](https://www.dataquest.io/blog/jupyter-notebook-tutorial/) or [Jupyter Book](https://jupyterbook.org/features/hiding.html)\n",
    "Jupyter is constructed from cells. Each sell is a separate identity. There are two basic ways you can use the cell:\n",
    "\n",
    "- **code cell** where you can type and execute python code\n",
    "- **markdown cell** where you can write text, explanations, dissertations and others for your colleagues or just for yourself.\n",
    "\n",
    "The nice thing is that both kind of cells can live happily one after the other. Basicaly you type in some code and you can give detailed explanation right after that in text.\n",
    "\n",
    "One **important** thing to note: the default setup is that you can create a new cell by pressing **Shift+Enter**, while you can start a new line in a cell by simply pressing **Enter**.\n",
    "\n",
    "Let us see an example for a code and corresponding explanation:"
   ]
  },
  {
   "cell_type": "code",
   "execution_count": 2,
   "metadata": {},
   "outputs": [
    {
     "data": {
      "text/plain": [
       "[<matplotlib.lines.Line2D at 0x14457625978>]"
      ]
     },
     "execution_count": 2,
     "metadata": {},
     "output_type": "execute_result"
    }
   ],
   "source": [
    "import numpy as np\n",
    "import matplotlib.pyplot as plt\n",
    "\n",
    "x = np.linspace(0,10, 100)\n",
    "y = np.sin(x) + 0.1*np.random.normal(size=len(x))\n",
    "\n",
    "plt.plot(x,y)"
   ]
  },
  {
   "cell_type": "markdown",
   "metadata": {},
   "source": [
    "In inline cell 4 we imported numpy and matplotlib.pyplot and created two variables, x and y and they represent a noisy sine wave. Now let us create a new variable *z* derived from *y* and plot the result:"
   ]
  },
  {
   "cell_type": "code",
   "execution_count": 3,
   "metadata": {
    "code_folding": [],
    "hide_input": true,
    "tags": []
   },
   "outputs": [
    {
     "data": {
      "text/plain": [
       "[<matplotlib.lines.Line2D at 0x144577bf358>]"
      ]
     },
     "execution_count": 3,
     "metadata": {},
     "output_type": "execute_result"
    },
    {
     "data": {
      "image/png": "[encoded data removed]",
      "text/plain": [
       "<Figure size 432x288 with 1 Axes>"
      ]
     },
     "metadata": {
      "needs_background": "light"
     },
     "output_type": "display_data"
    }
   ],
   "source": [
    "# @hidden_cell\n",
    "\n",
    "z = 2*y\n",
    "\n",
    "plt.plot(x,y)\n",
    "plt.plot(x,z)"
   ]
  },
  {
   "cell_type": "markdown",
   "metadata": {},
   "source": [
    "As you see, once you created a variable that lives further on in every cell, you can refer to them."
   ]
  },
  {
   "cell_type": "markdown",
   "metadata": {},
   "source": [
    "## Useful tricks for markdown\n",
    "\n",
    "Jupyter notebook is a nice tool to create cool presentations. It is worth to study a bit the underlying markdown syntax to know how to format your style. For detailed examples look at this [webpage](https://www.markdownguide.org/basic-syntax/):"
   ]
  },
  {
   "cell_type": "markdown",
   "metadata": {},
   "source": [
    "- To change the style of the cell from code to markdown make the cell outline blue and press **m** and the cell type is then changed. \n",
    "\n",
    "- To change the style from markdown to code press **y**.\n",
    "\n",
    "- To save your work press **Ctrl+S**\n",
    "\n",
    "- Click on Help and Keyboard shortcuts to see what other shortcuts are there."
   ]
  },
  {
   "cell_type": "markdown",
   "metadata": {},
   "source": [
    "- By starting the cell with # you create a Heading level 1. By increasing the number of # you can create sub headings.\n",
    "\n",
    "- New paragraph is created in a cell by leaving out a blank line.\n",
    "\n",
    "- Line breaks are down by leaving out two blank lines.\n",
    "\n",
    "- **Bold** strings are done by typing ** while *italic* is created by typing *.\n",
    "\n",
    "- If you need an unordered list, just start the line with the dash -.\n",
    "\n",
    "- To refer to some code bit in your markdown string use ``. Eg. The `len(y)` gives you the length of y."
   ]
  },
  {
   "cell_type": "markdown",
   "metadata": {},
   "source": [
    "- It is possible to write equations in markdown using tex syntax. Like, `$\\alpha$` appears after rendering as $\\alpha$.\n",
    "\n",
    "- You can use `\\begin{equation} \\end{equation}` too. \n",
    "\n",
    "- For more tricks visit: [Upmath](https://upmath.me/)"
   ]
  },
  {
   "cell_type": "markdown",
   "metadata": {},
   "source": [
    "## Exporting Jupyter notebook into html and pdf\n",
    "\n"
   ]
  },
  {
   "cell_type": "markdown",
   "metadata": {},
   "source": [
    "With jupyter there is an option to export the created *.ipynb* file into other formats like tex, html, pdf and others. Check this [website](http://www.blog.pythonlibrary.org/2018/10/09/how-to-export-jupyter-notebooks-into-other-formats/) for more details. \n",
    "\n",
    "Basic application of the converter is the following:\n",
    "\n",
    "- Open up an anaconda terminal and go to the folder where you ipynb file is. \n",
    "\n",
    "- Type in `jupyter nbconvert name.ipynb --to html` and you get an html version of your notebook.\n",
    "\n",
    "- If you need it in pdf type `jupyter nbconvert name.ipynb --to pdf`.\n",
    "\n",
    "- If for some reason your code cells are not saved as executed, your conversion will not output the results of the calculations, just the code. To get the results into the converted file type this `jupyter nbconvert --execute name.ipynb --to pdf`"
   ]
  }
 ],
 "metadata": {
  "celltoolbar": "Edit Metadata",
  "kernelspec": {
   "display_name": "Python 3",
   "language": "python",
   "name": "python3"
  },
  "language_info": {
   "codemirror_mode": {
    "name": "ipython",
    "version": 3
   },
   "file_extension": ".py",
   "mimetype": "text/x-python",
   "name": "python",
   "nbconvert_exporter": "python",
   "pygments_lexer": "ipython3",
   "version": "3.7.3"
  },
  "toc": {
   "base_numbering": 1,
   "nav_menu": {},
   "number_sections": true,
   "sideBar": true,
   "skip_h1_title": false,
   "title_cell": "Table of Contents",
   "title_sidebar": "Contents",
   "toc_cell": false,
   "toc_position": {},
   "toc_section_display": true,
   "toc_window_display": false
  }
 },
 "nbformat": 4,
 "nbformat_minor": 2
}
